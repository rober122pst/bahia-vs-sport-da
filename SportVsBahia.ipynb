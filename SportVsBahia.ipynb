{
  "cells": [
    {
      "cell_type": "code",
      "execution_count": 1,
      "metadata": {
        "id": "yQRmUC9b4af3"
      },
      "outputs": [],
      "source": [
        "import yaml"
      ]
    },
    {
      "cell_type": "code",
      "execution_count": 2,
      "metadata": {
        "id": "xkv2NUaj4n1f"
      },
      "outputs": [],
      "source": [
        "with open('./utils/sportVSbahia.yaml', 'r', encoding='utf8') as file:\n",
        "    dados = yaml.safe_load(file)"
      ]
    },
    {
      "cell_type": "code",
      "execution_count": 9,
      "metadata": {
        "colab": {
          "base_uri": "https://localhost:8080/"
        },
        "collapsed": true,
        "id": "4N8sxsxk5Vkv",
        "outputId": "c067da5a-0a83-4263-9eb8-cf314a92067d"
      },
      "outputs": [
        {
          "data": {
            "text/plain": [
              "{'1987': {'Sport': {'Estadual': 1,\n",
              "   'Regional': None,\n",
              "   'Brasileirão': 10,\n",
              "   'Copa_Brasil': None,\n",
              "   'Sul-Americana': None,\n",
              "   'Libertadores': None},\n",
              "  'Bahia': {'Estadual': 3,\n",
              "   'Regional': None,\n",
              "   'Brasileirão': 2,\n",
              "   'Copa_Brasil': None,\n",
              "   'Sul-Americana': None,\n",
              "   'Libertadores': None}},\n",
              " '1988': {'Sport': {'Estadual': 3,\n",
              "   'Regional': None,\n",
              "   'Brasileirão': 5,\n",
              "   'Copa_Brasil': None,\n",
              "   'Sul-Americana': None,\n",
              "   'Libertadores': 2},\n",
              "  'Bahia': {'Estadual': 3,\n",
              "   'Regional': None,\n",
              "   'Brasileirão': 10,\n",
              "   'Copa_Brasil': None,\n",
              "   'Sul-Americana': None,\n",
              "   'Libertadores': None}},\n",
              " '1989': {'Sport': {'Estadual': 0,\n",
              "   'Regional': None,\n",
              "   'Brasileirão': -4,\n",
              "   'Copa_Brasil': 8,\n",
              "   'Sul-Americana': None,\n",
              "   'Libertadores': None},\n",
              "  'Bahia': {'Estadual': 1,\n",
              "   'Regional': 0,\n",
              "   'Brasileirão': 2,\n",
              "   'Copa_Brasil': 0,\n",
              "   'Sul-Americana': None,\n",
              "   'Libertadores': 6}},\n",
              " '1990': {'Sport': {'Estadual': 1,\n",
              "   'Regional': None,\n",
              "   'Brasileirão': 5,\n",
              "   'Copa_Brasil': None,\n",
              "   'Sul-Americana': None,\n",
              "   'Libertadores': None},\n",
              "  'Bahia': {'Estadual': 0,\n",
              "   'Regional': None,\n",
              "   'Brasileirão': 6,\n",
              "   'Copa_Brasil': 1,\n",
              "   'Sul-Americana': None,\n",
              "   'Libertadores': None}},\n",
              " '1991': {'Sport': {'Estadual': 3,\n",
              "   'Regional': None,\n",
              "   'Brasileirão': 2,\n",
              "   'Copa_Brasil': 1,\n",
              "   'Sul-Americana': None,\n",
              "   'Libertadores': None},\n",
              "  'Bahia': {'Estadual': 3,\n",
              "   'Regional': None,\n",
              "   'Brasileirão': 3,\n",
              "   'Copa_Brasil': None,\n",
              "   'Sul-Americana': None,\n",
              "   'Libertadores': None}},\n",
              " '1992': {'Sport': {'Estadual': 3,\n",
              "   'Regional': None,\n",
              "   'Brasileirão': 3,\n",
              "   'Copa_Brasil': 6,\n",
              "   'Sul-Americana': None,\n",
              "   'Libertadores': None},\n",
              "  'Bahia': {'Estadual': 1,\n",
              "   'Regional': None,\n",
              "   'Brasileirão': 2,\n",
              "   'Copa_Brasil': 0,\n",
              "   'Sul-Americana': None,\n",
              "   'Libertadores': None}},\n",
              " '1993': {'Sport': {'Estadual': 0,\n",
              "   'Regional': None,\n",
              "   'Brasileirão': 3,\n",
              "   'Copa_Brasil': 1,\n",
              "   'Sul-Americana': None,\n",
              "   'Libertadores': None},\n",
              "  'Bahia': {'Estadual': 3,\n",
              "   'Regional': None,\n",
              "   'Brasileirão': 2,\n",
              "   'Copa_Brasil': None,\n",
              "   'Sul-Americana': None,\n",
              "   'Libertadores': None}},\n",
              " '1994': {'Sport': {'Estadual': 3,\n",
              "   'Regional': 4,\n",
              "   'Brasileirão': 2,\n",
              "   'Copa_Brasil': None,\n",
              "   'Sul-Americana': None,\n",
              "   'Libertadores': None},\n",
              "  'Bahia': {'Estadual': 3,\n",
              "   'Regional': 2,\n",
              "   'Brasileirão': 5,\n",
              "   'Copa_Brasil': 1,\n",
              "   'Sul-Americana': None,\n",
              "   'Libertadores': None}},\n",
              " '1995': {'Sport': {'Estadual': 0,\n",
              "   'Regional': None,\n",
              "   'Brasileirão': 2,\n",
              "   'Copa_Brasil': 0,\n",
              "   'Sul-Americana': None,\n",
              "   'Libertadores': None},\n",
              "  'Bahia': {'Estadual': 0,\n",
              "   'Regional': None,\n",
              "   'Brasileirão': 3,\n",
              "   'Copa_Brasil': 1,\n",
              "   'Sul-Americana': None,\n",
              "   'Libertadores': None}},\n",
              " '1996': {'Sport': {'Estadual': 3,\n",
              "   'Regional': None,\n",
              "   'Brasileirão': 5,\n",
              "   'Copa_Brasil': None,\n",
              "   'Sul-Americana': None,\n",
              "   'Libertadores': None},\n",
              "  'Bahia': {'Estadual': 1,\n",
              "   'Regional': None,\n",
              "   'Brasileirão': 2,\n",
              "   'Copa_Brasil': 1,\n",
              "   'Sul-Americana': None,\n",
              "   'Libertadores': None}},\n",
              " '1997': {'Sport': {'Estadual': 3,\n",
              "   'Regional': 2,\n",
              "   'Brasileirão': 4,\n",
              "   'Copa_Brasil': 0,\n",
              "   'Sul-Americana': None,\n",
              "   'Libertadores': None},\n",
              "  'Bahia': {'Estadual': 1,\n",
              "   'Regional': 3,\n",
              "   'Brasileirão': -4,\n",
              "   'Copa_Brasil': 0,\n",
              "   'Sul-Americana': None,\n",
              "   'Libertadores': None}},\n",
              " '1998': {'Sport': {'Estadual': 3,\n",
              "   'Regional': 0,\n",
              "   'Brasileirão': 5,\n",
              "   'Copa_Brasil': 1,\n",
              "   'Sul-Americana': None,\n",
              "   'Libertadores': None},\n",
              "  'Bahia': {'Estadual': 3,\n",
              "   'Regional': 2,\n",
              "   'Brasileirão': 0,\n",
              "   'Copa_Brasil': 0,\n",
              "   'Sul-Americana': None,\n",
              "   'Libertadores': None}},\n",
              " '1999': {'Sport': {'Estadual': 3,\n",
              "   'Regional': 2,\n",
              "   'Brasileirão': 2,\n",
              "   'Copa_Brasil': 0,\n",
              "   'Sul-Americana': None,\n",
              "   'Libertadores': None},\n",
              "  'Bahia': {'Estadual': 3,\n",
              "   'Regional': 3,\n",
              "   'Brasileirão': 0,\n",
              "   'Copa_Brasil': 1,\n",
              "   'Sul-Americana': None,\n",
              "   'Libertadores': None}},\n",
              " '2000': {'Sport': {'Estadual': 3,\n",
              "   'Regional': 4,\n",
              "   'Brasileirão': 5,\n",
              "   'Copa_Brasil': 0,\n",
              "   'Sul-Americana': None,\n",
              "   'Libertadores': None,\n",
              "   'Copa dos Campeões': 5},\n",
              "  'Bahia': {'Estadual': 1,\n",
              "   'Regional': 0,\n",
              "   'Brasileirão': 2,\n",
              "   'Copa_Brasil': 1,\n",
              "   'Sul-Americana': None,\n",
              "   'Libertadores': None}},\n",
              " '2001': {'Sport': {'Estadual': 0,\n",
              "   'Regional': 3,\n",
              "   'Brasileirão': -4,\n",
              "   'Copa_Brasil': 0,\n",
              "   'Sul-Americana': None,\n",
              "   'Libertadores': None},\n",
              "  'Bahia': {'Estadual': 3,\n",
              "   'Regional': 4,\n",
              "   'Brasileirão': 5,\n",
              "   'Copa_Brasil': 1,\n",
              "   'Sul-Americana': None,\n",
              "   'Libertadores': None}},\n",
              " '2002': {'Sport': {'Estadual': 0,\n",
              "   'Regional': 0,\n",
              "   'Brasileirão': 0,\n",
              "   'Copa_Brasil': 0,\n",
              "   'Sul-Americana': None,\n",
              "   'Libertadores': None},\n",
              "  'Bahia': {'Estadual': 0,\n",
              "   'Regional': 4,\n",
              "   'Brasileirão': 2,\n",
              "   'Copa_Brasil': 1,\n",
              "   'Sul-Americana': None,\n",
              "   'Libertadores': None}},\n",
              " '2003': {'Sport': {'Estadual': 3,\n",
              "   'Regional': 0,\n",
              "   'Brasileirão': 0,\n",
              "   'Copa_Brasil': 6,\n",
              "   'Sul-Americana': None,\n",
              "   'Libertadores': None},\n",
              "  'Bahia': {'Estadual': 0,\n",
              "   'Regional': 0,\n",
              "   'Brasileirão': -4,\n",
              "   'Copa_Brasil': 0,\n",
              "   'Sul-Americana': None,\n",
              "   'Libertadores': None}},\n",
              " '2004': {'Sport': {'Estadual': 0,\n",
              "   'Regional': None,\n",
              "   'Brasileirão': 0,\n",
              "   'Copa_Brasil': 1,\n",
              "   'Sul-Americana': None,\n",
              "   'Libertadores': None},\n",
              "  'Bahia': {'Estadual': 1,\n",
              "   'Regional': None,\n",
              "   'Brasileirão': 2,\n",
              "   'Copa_Brasil': None,\n",
              "   'Sul-Americana': None,\n",
              "   'Libertadores': None}},\n",
              " '2005': {'Sport': {'Estadual': 0,\n",
              "   'Regional': None,\n",
              "   'Brasileirão': 1,\n",
              "   'Copa_Brasil': None,\n",
              "   'Sul-Americana': None,\n",
              "   'Libertadores': None},\n",
              "  'Bahia': {'Estadual': 1,\n",
              "   'Regional': None,\n",
              "   'Brasileirão': -6,\n",
              "   'Copa_Brasil': 1,\n",
              "   'Sul-Americana': None,\n",
              "   'Libertadores': None}},\n",
              " '2006': {'Sport': {'Estadual': 3,\n",
              "   'Regional': None,\n",
              "   'Brasileirão': 4,\n",
              "   'Copa_Brasil': None,\n",
              "   'Sul-Americana': None,\n",
              "   'Libertadores': None},\n",
              "  'Bahia': {'Estadual': 0,\n",
              "   'Regional': None,\n",
              "   'Brasileirão': 0,\n",
              "   'Copa_Brasil': 1,\n",
              "   'Sul-Americana': None,\n",
              "   'Libertadores': None}},\n",
              " '2007': {'Sport': {'Estadual': 3,\n",
              "   'Regional': None,\n",
              "   'Brasileirão': 2,\n",
              "   'Copa_Brasil': 0,\n",
              "   'Sul-Americana': None,\n",
              "   'Libertadores': None},\n",
              "  'Bahia': {'Estadual': 3,\n",
              "   'Regional': None,\n",
              "   'Brasileirão': 2,\n",
              "   'Copa_Brasil': 0,\n",
              "   'Sul-Americana': None,\n",
              "   'Libertadores': None}},\n",
              " '2008': {'Sport': {'Estadual': 3,\n",
              "   'Regional': None,\n",
              "   'Brasileirão': 2,\n",
              "   'Copa_Brasil': 10,\n",
              "   'Sul-Americana': None,\n",
              "   'Libertadores': None},\n",
              "  'Bahia': {'Estadual': 1,\n",
              "   'Regional': None,\n",
              "   'Brasileirão': 0,\n",
              "   'Copa_Brasil': 0,\n",
              "   'Sul-Americana': None,\n",
              "   'Libertadores': None}},\n",
              " '2009': {'Sport': {'Estadual': 3,\n",
              "   'Regional': None,\n",
              "   'Brasileirão': -4,\n",
              "   'Copa_Brasil': None,\n",
              "   'Sul-Americana': None,\n",
              "   'Libertadores': 5},\n",
              "  'Bahia': {'Estadual': 1,\n",
              "   'Regional': None,\n",
              "   'Brasileirão': 0,\n",
              "   'Copa_Brasil': 0,\n",
              "   'Sul-Americana': None,\n",
              "   'Libertadores': None}},\n",
              " '2010': {'Sport': {'Estadual': 3,\n",
              "   'Regional': None,\n",
              "   'Brasileirão': 0,\n",
              "   'Copa_Brasil': 1,\n",
              "   'Sul-Americana': None,\n",
              "   'Libertadores': None},\n",
              "  'Bahia': {'Estadual': 1,\n",
              "   'Regional': None,\n",
              "   'Brasileirão': 4,\n",
              "   'Copa_Brasil': 0,\n",
              "   'Sul-Americana': None,\n",
              "   'Libertadores': None}},\n",
              " '2011': {'Sport': {'Estadual': 1,\n",
              "   'Regional': None,\n",
              "   'Brasileirão': 4,\n",
              "   'Copa_Brasil': 0,\n",
              "   'Sul-Americana': None,\n",
              "   'Libertadores': None},\n",
              "  'Bahia': {'Estadual': 0,\n",
              "   'Regional': None,\n",
              "   'Brasileirão': 2,\n",
              "   'Copa_Brasil': 1,\n",
              "   'Sul-Americana': None,\n",
              "   'Libertadores': None}},\n",
              " '2012': {'Sport': {'Estadual': 1,\n",
              "   'Regional': None,\n",
              "   'Brasileirão': -4,\n",
              "   'Copa_Brasil': None,\n",
              "   'Sul-Americana': None,\n",
              "   'Libertadores': None},\n",
              "  'Bahia': {'Estadual': 3,\n",
              "   'Regional': None,\n",
              "   'Brasileirão': 3,\n",
              "   'Copa_Brasil': None,\n",
              "   'Sul-Americana': 1,\n",
              "   'Libertadores': None}},\n",
              " '2013': {'Sport': {'Estadual': 1,\n",
              "   'Regional': 0,\n",
              "   'Brasileirão': 4,\n",
              "   'Copa_Brasil': 0,\n",
              "   'Sul-Americana': 2,\n",
              "   'Libertadores': None},\n",
              "  'Bahia': {'Estadual': 1,\n",
              "   'Regional': 0,\n",
              "   'Brasileirão': 2,\n",
              "   'Copa_Brasil': 0,\n",
              "   'Sul-Americana': 2,\n",
              "   'Libertadores': None}},\n",
              " '2014': {'Sport': {'Estadual': 3,\n",
              "   'Regional': 4,\n",
              "   'Brasileirão': 4,\n",
              "   'Copa_Brasil': 0,\n",
              "   'Sul-Americana': 1,\n",
              "   'Libertadores': None},\n",
              "  'Bahia': {'Estadual': 3,\n",
              "   'Regional': 0,\n",
              "   'Brasileirão': -4,\n",
              "   'Copa_Brasil': 1,\n",
              "   'Sul-Americana': 2,\n",
              "   'Libertadores': None}},\n",
              " '2015': {'Sport': {'Estadual': 0,\n",
              "   'Regional': 2,\n",
              "   'Brasileirão': 5,\n",
              "   'Copa_Brasil': 0,\n",
              "   'Sul-Americana': 2,\n",
              "   'Libertadores': None},\n",
              "  'Bahia': {'Estadual': 3,\n",
              "   'Regional': 3,\n",
              "   'Brasileirão': 0,\n",
              "   'Copa_Brasil': 0,\n",
              "   'Sul-Americana': 1,\n",
              "   'Libertadores': None}},\n",
              " '2016': {'Sport': {'Estadual': 1,\n",
              "   'Regional': 2,\n",
              "   'Brasileirão': 2,\n",
              "   'Copa_Brasil': 0,\n",
              "   'Sul-Americana': 1,\n",
              "   'Libertadores': None},\n",
              "  'Bahia': {'Estadual': 1,\n",
              "   'Regional': 2,\n",
              "   'Brasileirão': 4,\n",
              "   'Copa_Brasil': 1,\n",
              "   'Sul-Americana': None,\n",
              "   'Libertadores': None}},\n",
              " '2017': {'Sport': {'Estadual': 3,\n",
              "   'Regional': 3,\n",
              "   'Brasileirão': 2,\n",
              "   'Copa_Brasil': 1,\n",
              "   'Sul-Americana': 3,\n",
              "   'Libertadores': None},\n",
              "  'Bahia': {'Estadual': 1,\n",
              "   'Regional': 4,\n",
              "   'Brasileirão': 3,\n",
              "   'Copa_Brasil': 0,\n",
              "   'Sul-Americana': None,\n",
              "   'Libertadores': None}},\n",
              " '2018': {'Sport': {'Estadual': 0,\n",
              "   'Regional': None,\n",
              "   'Brasileirão': -4,\n",
              "   'Copa_Brasil': 0,\n",
              "   'Sul-Americana': None,\n",
              "   'Libertadores': None},\n",
              "  'Bahia': {'Estadual': 3,\n",
              "   'Regional': 3,\n",
              "   'Brasileirão': 4,\n",
              "   'Copa_Brasil': 1,\n",
              "   'Sul-Americana': 3,\n",
              "   'Libertadores': None}},\n",
              " '2019': {'Sport': {'Estadual': 3,\n",
              "   'Regional': None,\n",
              "   'Brasileirão': 4,\n",
              "   'Copa_Brasil': 0,\n",
              "   'Sul-Americana': None,\n",
              "   'Libertadores': None},\n",
              "  'Bahia': {'Estadual': 3,\n",
              "   'Regional': 0,\n",
              "   'Brasileirão': 2,\n",
              "   'Copa_Brasil': 1,\n",
              "   'Sul-Americana': 1,\n",
              "   'Libertadores': None}},\n",
              " '2020': {'Sport': {'Estadual': 0,\n",
              "   'Regional': 0,\n",
              "   'Brasileirão': 2,\n",
              "   'Copa_Brasil': 0,\n",
              "   'Sul-Americana': None,\n",
              "   'Libertadores': None},\n",
              "  'Bahia': {'Estadual': 3,\n",
              "   'Regional': 3,\n",
              "   'Brasileirão': 3,\n",
              "   'Copa_Brasil': 0,\n",
              "   'Sul-Americana': 1,\n",
              "   'Libertadores': None}},\n",
              " '2021': {'Sport': {'Estadual': 1,\n",
              "   'Regional': 0,\n",
              "   'Brasileirão': -4,\n",
              "   'Copa_Brasil': 0,\n",
              "   'Sul-Americana': None,\n",
              "   'Libertadores': None},\n",
              "  'Bahia': {'Estadual': 3,\n",
              "   'Regional': 4,\n",
              "   'Brasileirão': -4,\n",
              "   'Copa_Brasil': 1,\n",
              "   'Sul-Americana': 1,\n",
              "   'Libertadores': None}},\n",
              " '2022': {'Sport': {'Estadual': 3,\n",
              "   'Regional': 3,\n",
              "   'Brasileirão': 0,\n",
              "   'Copa_Brasil': 0,\n",
              "   'Sul-Americana': None,\n",
              "   'Libertadores': None},\n",
              "  'Bahia': {'Estadual': 3,\n",
              "   'Regional': 4,\n",
              "   'Brasileirão': 4,\n",
              "   'Copa_Brasil': 1,\n",
              "   'Sul-Americana': None,\n",
              "   'Libertadores': None}}}"
            ]
          },
          "execution_count": 9,
          "metadata": {},
          "output_type": "execute_result"
        }
      ],
      "source": [
        "dados"
      ]
    },
    {
      "cell_type": "code",
      "execution_count": 5,
      "metadata": {
        "id": "tghYeLEr9Rr4"
      },
      "outputs": [],
      "source": [
        "sport = {}\n",
        "bahia = {}"
      ]
    },
    {
      "cell_type": "code",
      "execution_count": 6,
      "metadata": {
        "id": "kz01Cd_E56C_"
      },
      "outputs": [],
      "source": [
        "for ano, dado in dados.items():\n",
        "    for time, pontos in dado.items():\n",
        "        soma = sum(v if v is not None else 0 for v in pontos.values())\n",
        "        if time == 'Sport':\n",
        "            sport[ano] = soma\n",
        "        elif time == 'Bahia':\n",
        "            bahia[ano] = soma"
      ]
    },
    {
      "cell_type": "code",
      "execution_count": 12,
      "metadata": {
        "colab": {
          "base_uri": "https://localhost:8080/"
        },
        "id": "vvfWKmVT9piR",
        "outputId": "47c02d59-985a-4d2a-e6a7-bcabc5c5791e"
      },
      "outputs": [
        {
          "name": "stdout",
          "output_type": "stream",
          "text": [
            "ANO  | SPORT | BAHIA | VENCEU\n",
            "1987 |  11   |  05   |  🦁 SPT\n",
            "1988 |  10   |  13   |  🦸‍♂️ BAH\n",
            "1989 |  04   |  09   |  🦸‍♂️ BAH\n",
            "1990 |  06   |  07   |  🦸‍♂️ BAH\n",
            "1991 |  06   |  06   |  🦸‍♂️ BAH\n",
            "1992 |  12   |  03   |  🦁 SPT\n",
            "1993 |  04   |  05   |  🦸‍♂️ BAH\n",
            "1994 |  09   |  11   |  🦸‍♂️ BAH\n",
            "1995 |  02   |  04   |  🦸‍♂️ BAH\n",
            "1996 |  08   |  04   |  🦁 SPT\n",
            "1997 |  09   |  00   |  🦁 SPT\n",
            "1998 |  09   |  05   |  🦁 SPT\n",
            "1999 |  07   |  07   |  🦸‍♂️ BAH\n",
            "2000 |  17   |  04   |  🦁 SPT\n",
            "2001 |  -1   |  13   |  🦸‍♂️ BAH\n",
            "2002 |  00   |  07   |  🦸‍♂️ BAH\n",
            "2003 |  09   |  -4   |  🦁 SPT\n",
            "2004 |  01   |  03   |  🦸‍♂️ BAH\n",
            "2005 |  01   |  -4   |  🦁 SPT\n",
            "2006 |  07   |  01   |  🦁 SPT\n",
            "2007 |  05   |  05   |  🦸‍♂️ BAH\n",
            "2008 |  15   |  01   |  🦁 SPT\n",
            "2009 |  04   |  01   |  🦁 SPT\n",
            "2010 |  04   |  05   |  🦸‍♂️ BAH\n",
            "2011 |  05   |  03   |  🦁 SPT\n",
            "2012 |  -3   |  07   |  🦸‍♂️ BAH\n",
            "2013 |  07   |  05   |  🦁 SPT\n",
            "2014 |  12   |  02   |  🦁 SPT\n",
            "2015 |  09   |  07   |  🦁 SPT\n",
            "2016 |  06   |  08   |  🦸‍♂️ BAH\n",
            "2017 |  12   |  08   |  🦁 SPT\n",
            "2018 |  -4   |  14   |  🦸‍♂️ BAH\n",
            "2019 |  07   |  07   |  🦸‍♂️ BAH\n",
            "2020 |  02   |  10   |  🦸‍♂️ BAH\n",
            "2021 |  -3   |  05   |  🦸‍♂️ BAH\n",
            "2022 |  06   |  12   |  🦸‍♂️ BAH\n"
          ]
        }
      ],
      "source": [
        "\n",
        "print(\"ANO  | SPORT | BAHIA | VENCEU\")\n",
        "for ano in dados.keys():\n",
        "    emoji = \"🦁 SPT\" if sport[ano] > bahia[ano] else \"🦸‍♂️ BAH\"\n",
        "    print(f\"{ano} |  {sport[ano]:02d}   |  {bahia[ano]:02d}   |  {emoji}\")"
      ]
    },
    {
      "cell_type": "code",
      "execution_count": 13,
      "metadata": {
        "colab": {
          "base_uri": "https://localhost:8080/"
        },
        "id": "Lxd-mid5FJbD",
        "outputId": "647e7ec3-efa7-4150-e5bc-4b6fc5ac29c5"
      },
      "outputs": [
        {
          "name": "stdout",
          "output_type": "stream",
          "text": [
            "Sport venceu 16 vezes.\n",
            "Bahia venceu 16 vezes.\n"
          ]
        }
      ],
      "source": [
        "vitorias_sport = sum(1 for ano in dados.keys() if sport[ano] > bahia[ano])\n",
        "vitorias_bahia = sum(1 for ano in dados.keys() if bahia[ano] > sport[ano])\n",
        "\n",
        "print(f\"Sport venceu {vitorias_sport} vezes.\")\n",
        "print(f\"Bahia venceu {vitorias_bahia} vezes.\")"
      ]
    },
    {
      "cell_type": "code",
      "execution_count": 14,
      "metadata": {
        "colab": {
          "base_uri": "https://localhost:8080/"
        },
        "id": "szw6AHmhFaWs",
        "outputId": "7bb92f03-4f82-4627-c622-d684805b47e4"
      },
      "outputs": [
        {
          "name": "stdout",
          "output_type": "stream",
          "text": [
            "Sport fez um total de 215 pontos.\n",
            "Bahia fez um total de 199 pontos.\n"
          ]
        }
      ],
      "source": [
        "total_sport = sum(sport.values())\n",
        "total_bahia = sum(bahia.values())\n",
        "\n",
        "print(f\"Sport fez um total de {total_sport} pontos.\")\n",
        "print(f\"Bahia fez um total de {total_bahia} pontos.\")"
      ]
    },
    {
      "cell_type": "code",
      "execution_count": 15,
      "metadata": {
        "colab": {
          "base_uri": "https://localhost:8080/"
        },
        "id": "xeJTN70yKkaO",
        "outputId": "1bd9392a-a585-4e95-92b8-5f5c05881898"
      },
      "outputs": [
        {
          "name": "stdout",
          "output_type": "stream",
          "text": [
            "\n",
            "Pontos por década:\n",
            "DECADA | SPORT | BAHIA | VENCEDOR DA DECADA\n",
            "1980s  |  25   |  27   | 🦸‍♂️ Bahia\n",
            "1990s  |  72   |  52   | 🦁 Sport\n",
            "2000s  |  58   |  27   | 🦁 Sport\n",
            "2010s  |  55   |  66   | 🦸‍♂️ Bahia\n",
            "2020s  |  05   |  27   | 🦸‍♂️ Bahia\n",
            "\n",
            "Sport venceu 2 décadas.\n",
            "Bahia venceu 3 décadas.\n"
          ]
        }
      ],
      "source": [
        "# prompt: divida os dados do sport e bahia por decada\n",
        "\n",
        "sport_por_decada = {}\n",
        "bahia_por_decada = {}\n",
        "\n",
        "for ano, dado in dados.items():\n",
        "    decada = str(ano)[:3] + '0s'\n",
        "    sport_pontos = sum(v if v is not None else 0 for k, v in dado.items() if k == 'Sport' for v in v.values())\n",
        "    bahia_pontos = sum(v if v is not None else 0 for k, v in dado.items() if k == 'Bahia' for v in v.values())\n",
        "\n",
        "    if decada not in sport_por_decada:\n",
        "        sport_por_decada[decada] = 0\n",
        "        bahia_por_decada[decada] = 0\n",
        "\n",
        "    sport_por_decada[decada] += sport_pontos\n",
        "    bahia_por_decada[decada] += bahia_pontos\n",
        "\n",
        "print(\"\\nPontos por década:\")\n",
        "print(\"DECADA | SPORT | BAHIA | VENCEDOR DA DECADA\")\n",
        "for decada in sorted(sport_por_decada.keys()):\n",
        "    sport_total = sport_por_decada[decada]\n",
        "    bahia_total = bahia_por_decada[decada]\n",
        "    vencedor_decada = \"🦁 Sport\" if sport_total > bahia_total else \"🦸‍♂️ Bahia\" if bahia_total > sport_total else \"🤝 Empate\"\n",
        "    print(f\"{decada}  |  {sport_total:02d}   |  {bahia_total:02d}   | {vencedor_decada}\")\n",
        "\n",
        "vitorias_decada_sport = sum(1 for decada in sport_por_decada.keys() if sport_por_decada[decada] > bahia_por_decada[decada])\n",
        "vitorias_decada_bahia = sum(1 for decada in sport_por_decada.keys() if bahia_por_decada[decada] > sport_por_decada[decada])\n",
        "\n",
        "print(f\"\\nSport venceu {vitorias_decada_sport} décadas.\")\n",
        "print(f\"Bahia venceu {vitorias_decada_bahia} décadas.\")\n"
      ]
    },
    {
      "cell_type": "code",
      "execution_count": 3,
      "metadata": {
        "collapsed": true,
        "id": "t-ZWCnzFAeNC"
      },
      "outputs": [],
      "source": [
        "#import matplotlib.pyplot as plt\n",
        "import numpy as np"
      ]
    },
    {
      "cell_type": "code",
      "execution_count": 17,
      "metadata": {},
      "outputs": [
        {
          "data": {
            "text/plain": [
              "array([-6.58442609e-04, -9.78039295e-02,  7.95649597e+00])"
            ]
          },
          "execution_count": 17,
          "metadata": {},
          "output_type": "execute_result"
        }
      ],
      "source": [
        "sport_pts = [ponto for ponto in sport.values()]\n",
        "bahia_pts = [ponto for ponto in bahia.values()]\n",
        "\n",
        "x = np.array([i for i in range(len(sport_pts))])\n",
        "y = np.array(sport_pts)\n",
        "\n",
        "coef = np.polyfit(x, y, 2)\n",
        "\n",
        "coef"
      ]
    },
    {
      "cell_type": "code",
      "execution_count": 17,
      "metadata": {
        "colab": {
          "base_uri": "https://localhost:8080/",
          "height": 487
        },
        "id": "LGFaqaU7A70R",
        "outputId": "d0d17b51-e798-4829-c687-d8ce6419abd4"
      },
      "outputs": [
        {
          "data": {
            "image/png": "[encoded data removed]",
            "text/plain": [
              "<Figure size 640x480 with 1 Axes>"
            ]
          },
          "metadata": {},
          "output_type": "display_data"
        }
      ],
      "source": [
        "# Dados de exemplo\n",
        "x = [int(ano) for ano in dados.keys()]\n",
        "sport_pts = [ponto for ponto in sport.values()]\n",
        "bahia_pts = [ponto for ponto in bahia.values()]\n",
        "\n",
        "# Criar gráfico de linha\n",
        "plt.plot(x, sport_pts, label='Sport', color='r')\n",
        "plt.plot(x, bahia_pts, label='Bahia', color='b')\n",
        "\n",
        "# Adicionar título e rótulos\n",
        "plt.title('Desempenho Sport VS Bahia')\n",
        "plt.xlabel('Ano')\n",
        "plt.ylabel('Pontos')\n",
        "\n",
        "plt.legend()\n",
        "plt.xticks(x, rotation=90, fontsize=9)\n",
        "plt.tight_layout()\n",
        "# Exibir o gráfico\n",
        "plt.show()"
      ]
    },
    {
      "cell_type": "code",
      "execution_count": 18,
      "metadata": {
        "id": "UrUjcuB0E-3T"
      },
      "outputs": [],
      "source": [
        "sport_br = {}\n",
        "bahia_br = {}\n",
        "\n",
        "for ano, dado in dados.items():\n",
        "    for time, pontos in dado.items():\n",
        "        soma = pontos['Brasileirão']\n",
        "        if time == 'Sport':\n",
        "            sport_br[ano] = soma\n",
        "        elif time == 'Bahia':\n",
        "            bahia_br[ano] = soma"
      ]
    },
    {
      "cell_type": "code",
      "execution_count": 19,
      "metadata": {
        "colab": {
          "base_uri": "https://localhost:8080/",
          "height": 487
        },
        "id": "0acSu0sgGQyU",
        "outputId": "2bfe0967-eb19-4337-9593-05366836b2cc"
      },
      "outputs": [
        {
          "data": {
            "image/png": "[encoded data removed]",
            "text/plain": [
              "<Figure size 640x480 with 1 Axes>"
            ]
          },
          "metadata": {},
          "output_type": "display_data"
        }
      ],
      "source": [
        "# Dados de exemplo\n",
        "x = [int(ano) for ano in dados.keys()]\n",
        "sport_pts = [ponto for ponto in sport_br.values()]\n",
        "bahia_pts = [ponto for ponto in bahia_br.values()]\n",
        "\n",
        "# Criar gráfico de linha\n",
        "plt.plot(x, sport_pts, label='Sport', color='r')\n",
        "plt.plot(x, bahia_pts, label='Bahia', color='b')\n",
        "\n",
        "# Adicionar título e rótulos\n",
        "plt.title('Desempenho Sport VS Bahia (Brasileirão)')\n",
        "plt.xlabel('Ano')\n",
        "plt.ylabel('Pontos')\n",
        "\n",
        "plt.legend()\n",
        "plt.xticks(x, rotation=90, fontsize=9)\n",
        "plt.tight_layout()\n",
        "# Exibir o gráfico\n",
        "plt.show()"
      ]
    },
    {
      "cell_type": "code",
      "execution_count": 20,
      "metadata": {
        "id": "ZEtGKLeYHd_s"
      },
      "outputs": [],
      "source": [
        "sport_cdb = {}\n",
        "bahia_cdb = {}\n",
        "\n",
        "for ano, dado in dados.items():\n",
        "    for time, pontos in dado.items():\n",
        "        soma = pontos['Copa_Brasil']\n",
        "        if time == 'Sport':\n",
        "            sport_cdb[ano] = soma\n",
        "        elif time == 'Bahia':\n",
        "            bahia_cdb[ano] = soma"
      ]
    },
    {
      "cell_type": "code",
      "execution_count": 21,
      "metadata": {
        "colab": {
          "base_uri": "https://localhost:8080/",
          "height": 487
        },
        "id": "kE1y6cYiHmlM",
        "outputId": "e4e3e13f-2eb6-412d-ed5f-5a793c047eb2"
      },
      "outputs": [
        {
          "data": {
            "image/png": "[encoded data removed]",
            "text/plain": [
              "<Figure size 640x480 with 1 Axes>"
            ]
          },
          "metadata": {},
          "output_type": "display_data"
        }
      ],
      "source": [
        "# Dados de exemplo\n",
        "anos = [int(ano) for ano in dados.keys()]\n",
        "sport_pts = [ponto for ponto in sport_cdb.values()]\n",
        "bahia_pts = [ponto for ponto in bahia_cdb.values()]\n",
        "\n",
        "sport_pts = [ponto if ponto is not None else 0 for ponto in sport_pts]\n",
        "bahia_pts = [ponto if ponto is not None else 0 for ponto in bahia_pts]\n",
        "\n",
        "x = np.arange(len(anos))\n",
        "largura = 0.4\n",
        "\n",
        "# Criar gráfico de linha\n",
        "plt.bar(x - largura/2, sport_pts, width=largura, label='Sport', color='r')\n",
        "plt.bar(x + largura/2, bahia_pts, width=largura, label='Bahia', color='b')\n",
        "\n",
        "# Adicionar título e rótulos\n",
        "plt.title('Desempenho Sport VS Bahia (Copa do Brasil)')\n",
        "plt.xlabel('Ano')\n",
        "plt.ylabel('Pontos')\n",
        "\n",
        "plt.legend()\n",
        "plt.xticks(x, anos, rotation=90, fontsize=9)\n",
        "plt.tight_layout()\n",
        "# Exibir o gráfico\n",
        "plt.show()"
      ]
    }
  ],
  "metadata": {
    "colab": {
      "provenance": []
    },
    "kernelspec": {
      "display_name": "Python 3",
      "name": "python3"
    },
    "language_info": {
      "codemirror_mode": {
        "name": "ipython",
        "version": 3
      },
      "file_extension": ".py",
      "mimetype": "text/x-python",
      "name": "python",
      "nbconvert_exporter": "python",
      "pygments_lexer": "ipython3",
      "version": "3.12.10"
    }
  },
  "nbformat": 4,
  "nbformat_minor": 0
}
